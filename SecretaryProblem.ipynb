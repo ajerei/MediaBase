{
 "cells": [
  {
   "cell_type": "code",
   "execution_count": null,
   "metadata": {},
   "outputs": [],
   "source": [
    "from random import random, randint\n",
    "def qualites(n):\n",
    "return [random) for\n",
    "in range (n) ]\n",
    "def recrut (n) :\n",
    "succes\n",
    "= 0\n",
    "nb simul\n",
    "= 10000\n",
    "for\n",
    "in range (nb simul):\n",
    "sec\n",
    "= qualites(n)\n",
    "best\n",
    "= sec. index (max (sec))\n",
    "k = 2\n",
    "maxi\n",
    "= max(sec[0], sec(1])\n",
    "while k < n:\n",
    "if sec(k] > maxi: break\n",
    "k += 1\n",
    "if k == best: succes +=\n",
    "1\n",
    "return succes / b simul\n",
    "\n"
   ]
  }
 ],
 "metadata": {
  "language_info": {
   "name": "python"
  },
  "orig_nbformat": 4
 },
 "nbformat": 4,
 "nbformat_minor": 2
}
